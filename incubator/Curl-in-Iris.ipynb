{
 "cells": [
  {
   "cell_type": "code",
   "execution_count": null,
   "metadata": {
    "collapsed": true
   },
   "outputs": [],
   "source": [
    "import cf_units\n",
    "import datetime\n",
    "import iris\n",
    "import iris.analysis.calculus as icalc\n",
    "import numpy as np\n",
    "import os\n",
    "#\n",
    "import umtools.irismode as umu\n",
    "from umtools.utils import grdstep"
   ]
  },
  {
   "cell_type": "code",
   "execution_count": null,
   "metadata": {
    "collapsed": true
   },
   "outputs": [],
   "source": [
    "iris.FUTURE.netcdf_promote = True\n",
    "um_res = grdstep('km2p2')"
   ]
  },
  {
   "cell_type": "code",
   "execution_count": null,
   "metadata": {
    "collapsed": true
   },
   "outputs": [],
   "source": [
    "fcst_init = '25_1200'"
   ]
  },
  {
   "cell_type": "code",
   "execution_count": null,
   "metadata": {
    "collapsed": true
   },
   "outputs": [],
   "source": [
    "f = iris.load(os.path.join(mypaths.um_dir,um_res.key,fcst_init,'model_levels_full/processed/umnsa_rlev_obs_11-14h_024-proc.nc'))"
   ]
  },
  {
   "cell_type": "code",
   "execution_count": null,
   "metadata": {
    "collapsed": true
   },
   "outputs": [],
   "source": [
    "def cube_georef_to_cart(cube, dx=1, dy=None, remove_z_bounds=True):\n",
    "    if dy is None:\n",
    "        dy = dx\n",
    "    xpoints = np.array(range(u_orig.coord('grid_longitude').shape[0]))*dx\n",
    "    ypoints = np.array(range(u_orig.coord('grid_latitude').shape[0]))*dy\n",
    "    \n",
    "    xcoord = iris.coords.DimCoord(points=xpoints, standard_name='longitude', units=cf_units.Unit('m'))\n",
    "    ycoord = iris.coords.DimCoord(points=ypoints, standard_name='latitude', units=cf_units.Unit('m'))\n",
    "    \n",
    "    zcoord = iris.coords.DimCoord.from_coord(u_orig.coord('atmosphere_hybrid_height_coordinate'))\n",
    "    if remove_z_bounds:\n",
    "        zcoord.bounds = None\n",
    "    \n",
    "    res = iris.cube.Cube(data=cube.data, standard_name=cube.name(), units=cube.units)\n",
    "    \n",
    "    res.add_dim_coord(zcoord,0)\n",
    "    res.add_dim_coord(ycoord,1)\n",
    "    res.add_dim_coord(xcoord,2)\n",
    "    \n",
    "    return res"
   ]
  },
  {
   "cell_type": "code",
   "execution_count": null,
   "metadata": {
    "collapsed": true
   },
   "outputs": [],
   "source": [
    "u_orig = f.extract_strict('x_wind')\n",
    "v_orig = f.extract_strict('y_wind')\n",
    "w_orig = f.extract_strict('upward_air_velocity')"
   ]
  },
  {
   "cell_type": "code",
   "execution_count": null,
   "metadata": {
    "collapsed": true
   },
   "outputs": [],
   "source": [
    "u = cube_georef_to_cart(u_orig, dx=um_res.to_flt())\n",
    "v = cube_georef_to_cart(v_orig, dx=um_res.to_flt())\n",
    "w = cube_georef_to_cart(w_orig, dx=um_res.to_flt())\n",
    "w.rename('z_wind')"
   ]
  },
  {
   "cell_type": "code",
   "execution_count": null,
   "metadata": {
    "collapsed": true
   },
   "outputs": [],
   "source": [
    "a = icalc.curl(u,v,w)"
   ]
  }
 ],
 "metadata": {
  "kernelspec": {
   "display_name": "Python 3",
   "language": "python",
   "name": "python3"
  },
  "language_info": {
   "codemirror_mode": {
    "name": "ipython",
    "version": 3
   },
   "file_extension": ".py",
   "mimetype": "text/x-python",
   "name": "python",
   "nbconvert_exporter": "python",
   "pygments_lexer": "ipython3",
   "version": "3.5.1"
  }
 },
 "nbformat": 4,
 "nbformat_minor": 0
}
