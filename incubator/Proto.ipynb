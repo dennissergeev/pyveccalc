{
 "cells": [
  {
   "cell_type": "code",
   "execution_count": null,
   "metadata": {
    "collapsed": true
   },
   "outputs": [],
   "source": [
    "import cf_units\n",
    "import datetime\n",
    "import iris\n",
    "from iris.analysis.calculus import differentiate\n",
    "import matplotlib as mpl\n",
    "import matplotlib.pyplot as plt\n",
    "import numpy as np\n",
    "import os\n",
    "#\n",
    "import umtools.irismode as umu\n",
    "from umtools.utils import grdstep"
   ]
  },
  {
   "cell_type": "code",
   "execution_count": null,
   "metadata": {
    "collapsed": true
   },
   "outputs": [],
   "source": [
    "import pyveccalc.iris_api as icalc"
   ]
  },
  {
   "cell_type": "code",
   "execution_count": null,
   "metadata": {
    "collapsed": true
   },
   "outputs": [],
   "source": [
    "%matplotlib notebook"
   ]
  },
  {
   "cell_type": "code",
   "execution_count": null,
   "metadata": {
    "collapsed": false
   },
   "outputs": [],
   "source": [
    "# plt.style.reload_library()\n",
    "plt.style.use('awesome')"
   ]
  },
  {
   "cell_type": "code",
   "execution_count": null,
   "metadata": {
    "collapsed": false
   },
   "outputs": [],
   "source": [
    "iris.FUTURE.netcdf_promote = True\n",
    "um_res = grdstep('km2p2')"
   ]
  },
  {
   "cell_type": "code",
   "execution_count": null,
   "metadata": {
    "collapsed": true
   },
   "outputs": [],
   "source": [
    "fcst_init = '25_1200'"
   ]
  },
  {
   "cell_type": "code",
   "execution_count": null,
   "metadata": {
    "collapsed": false
   },
   "outputs": [],
   "source": [
    "f = iris.load('/local/fwv14jru/UEA/ACCACIA/UM/exp_results/km2p2/25_1200/model_levels_full/processed/umnsa_rlev_obs_11-14h_014-proc.nc')"
   ]
  },
  {
   "cell_type": "code",
   "execution_count": null,
   "metadata": {
    "collapsed": false
   },
   "outputs": [],
   "source": [
    "f"
   ]
  },
  {
   "cell_type": "code",
   "execution_count": null,
   "metadata": {
    "collapsed": true
   },
   "outputs": [],
   "source": [
    "u_orig = f.extract_strict('x_wind')\n",
    "v_orig = f.extract_strict('y_wind')\n",
    "w_orig = f.extract_strict('upward_air_velocity')"
   ]
  },
  {
   "cell_type": "code",
   "execution_count": null,
   "metadata": {
    "collapsed": false
   },
   "outputs": [],
   "source": [
    "u = icalc.cube_ellips_to_cart(u_orig, dx=um_res.to_flt())\n",
    "v = icalc.cube_ellips_to_cart(v_orig, dx=um_res.to_flt())\n",
    "w = icalc.cube_ellips_to_cart(w_orig, dx=um_res.to_flt())\n",
    "w.rename('z_wind')"
   ]
  },
  {
   "cell_type": "code",
   "execution_count": null,
   "metadata": {
    "collapsed": false
   },
   "outputs": [],
   "source": [
    "print(u)"
   ]
  },
  {
   "cell_type": "code",
   "execution_count": null,
   "metadata": {
    "collapsed": false
   },
   "outputs": [],
   "source": [
    "a = icalc.AtmosFlow(u,v,w)"
   ]
  },
  {
   "cell_type": "code",
   "execution_count": null,
   "metadata": {
    "collapsed": false
   },
   "outputs": [],
   "source": [
    "a.rel_vort_tilt"
   ]
  },
  {
   "cell_type": "code",
   "execution_count": null,
   "metadata": {
    "collapsed": true
   },
   "outputs": [],
   "source": [
    "c_red = mpl.colors.colorConverter.to_rgba('red')\n",
    "c_blue= mpl.colors.colorConverter.to_rgba('blue')\n",
    "c_white_trans = mpl.colors.colorConverter.to_rgba('white',alpha = 0.0)\n",
    "cmap_rb = mpl.colors.LinearSegmentedColormap.from_list('cmap_BuRd',[c_blue,c_white_trans,c_red],64)\n",
    "cmap_rb.set_over('magenta')\n",
    "cmap_rb.set_under('navy')\n",
    "\n",
    "bounds = [-10,-1,1,10]\n",
    "norm = mpl.colors.BoundaryNorm(bounds, cmap_rb.N)\n",
    "\n",
    "kw = dict(norm=norm, levels=bounds, cmap=cmap_rb, extend='both')"
   ]
  },
  {
   "cell_type": "code",
   "execution_count": null,
   "metadata": {
    "collapsed": false,
    "scrolled": false
   },
   "outputs": [],
   "source": [
    "plt.contourf(a.rel_vort[8,...].data*1e4, levels=np.linspace(-10,10,11), cmap='PuOr_r', extend='both')\n",
    "plt.contourf(a.kvn[8,...].data, **kw)\n",
    "plt.colorbar()"
   ]
  },
  {
   "cell_type": "code",
   "execution_count": null,
   "metadata": {
    "collapsed": false
   },
   "outputs": [],
   "source": [
    "def _show_points(cube, i1=1, i2=4):\n",
    "    print(cube.name())\n",
    "    print(cube.coord(axis='x').name(), cube.coord(axis='x').points[i1:i2], len(cube.coord(axis='x').points))\n",
    "    print(cube.data[0,0,i1:i2])\n",
    "    print(cube.coord(axis='y').name(), cube.coord(axis='y').points[i1:i2], len(cube.coord(axis='y').points))\n",
    "    print(cube.data[0,i1:i2,0])"
   ]
  },
  {
   "cell_type": "code",
   "execution_count": null,
   "metadata": {
    "collapsed": false
   },
   "outputs": [],
   "source": [
    "_show_points(u)"
   ]
  }
 ],
 "metadata": {
  "kernelspec": {
   "display_name": "Python 3",
   "language": "python",
   "name": "python3"
  },
  "language_info": {
   "codemirror_mode": {
    "name": "ipython",
    "version": 3
   },
   "file_extension": ".py",
   "mimetype": "text/x-python",
   "name": "python",
   "nbconvert_exporter": "python",
   "pygments_lexer": "ipython3",
   "version": "3.5.1"
  }
 },
 "nbformat": 4,
 "nbformat_minor": 0
}
