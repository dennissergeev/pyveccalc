{
 "cells": [
  {
   "cell_type": "code",
   "execution_count": 1,
   "metadata": {
    "collapsed": true
   },
   "outputs": [],
   "source": [
    "from cached_property import cached_property\n",
    "import cf_units\n",
    "import datetime\n",
    "import iris\n",
    "from iris.analysis.calculus import differentiate\n",
    "import matplotlib as mpl\n",
    "import matplotlib.pyplot as plt\n",
    "import numpy as np\n",
    "import os\n",
    "#\n",
    "import umtools.irismode as umu\n",
    "from umtools.utils import grdstep"
   ]
  },
  {
   "cell_type": "code",
   "execution_count": 2,
   "metadata": {
    "collapsed": false
   },
   "outputs": [],
   "source": [
    "import pyveccalc.iris_api as icalc"
   ]
  },
  {
   "cell_type": "code",
   "execution_count": 3,
   "metadata": {
    "collapsed": true
   },
   "outputs": [],
   "source": [
    "%matplotlib notebook"
   ]
  },
  {
   "cell_type": "code",
   "execution_count": 4,
   "metadata": {
    "collapsed": false
   },
   "outputs": [],
   "source": [
    "# plt.style.reload_library()\n",
    "plt.style.use('awesome')"
   ]
  },
  {
   "cell_type": "code",
   "execution_count": 5,
   "metadata": {
    "collapsed": false
   },
   "outputs": [],
   "source": [
    "iris.FUTURE.netcdf_promote = True\n",
    "um_res = grdstep('km2p2')"
   ]
  },
  {
   "cell_type": "code",
   "execution_count": 6,
   "metadata": {
    "collapsed": true
   },
   "outputs": [],
   "source": [
    "fcst_init = '25_1200'"
   ]
  },
  {
   "cell_type": "code",
   "execution_count": 7,
   "metadata": {
    "collapsed": false
   },
   "outputs": [],
   "source": [
    "f = iris.load('/local/fwv14jru/UEA/ACCACIA/UM/exp_results/km2p2/25_1200/model_levels_full/processed/umnsa_rlev_obs_11-14h_014-proc.nc')"
   ]
  },
  {
   "cell_type": "code",
   "execution_count": 8,
   "metadata": {
    "collapsed": false
   },
   "outputs": [
    {
     "data": {
      "text/plain": [
       "[<iris 'Cube' of geopotential_height / (m) (model_level_number: 40; grid_latitude: 599; grid_longitude: 599)>,\n",
       "<iris 'Cube' of surface_altitude / (m) (grid_latitude: 599; grid_longitude: 599)>,\n",
       "<iris 'Cube' of surface_altitude / (m) (grid_latitude: 599; grid_longitude: 599)>,\n",
       "<iris 'Cube' of surface_altitude / (m) (grid_latitude: 599; grid_longitude: 599)>,\n",
       "<iris 'Cube' of surface_altitude / (m) (grid_latitude: 599; grid_longitude: 599)>,\n",
       "<iris 'Cube' of upward_air_velocity / (m s-1) (model_level_number: 40; grid_latitude: 599; grid_longitude: 599)>,\n",
       "<iris 'Cube' of x_wind / (m s-1) (model_level_number: 40; grid_latitude: 599; grid_longitude: 599)>,\n",
       "<iris 'Cube' of y_wind / (m s-1) (model_level_number: 40; grid_latitude: 599; grid_longitude: 599)>]"
      ]
     },
     "execution_count": 8,
     "metadata": {},
     "output_type": "execute_result"
    }
   ],
   "source": [
    "f"
   ]
  },
  {
   "cell_type": "code",
   "execution_count": 9,
   "metadata": {
    "collapsed": true
   },
   "outputs": [],
   "source": [
    "u_orig = f.extract_strict('x_wind')\n",
    "v_orig = f.extract_strict('y_wind')\n",
    "w_orig = f.extract_strict('upward_air_velocity')"
   ]
  },
  {
   "cell_type": "code",
   "execution_count": 10,
   "metadata": {
    "collapsed": false
   },
   "outputs": [],
   "source": [
    "u = icalc.cube_ellips_to_cart(u_orig, dx=um_res.to_flt())\n",
    "v = icalc.cube_ellips_to_cart(v_orig, dx=um_res.to_flt())\n",
    "w = icalc.cube_ellips_to_cart(w_orig, dx=um_res.to_flt())\n",
    "w.rename('z_wind')"
   ]
  },
  {
   "cell_type": "code",
   "execution_count": 11,
   "metadata": {
    "collapsed": false
   },
   "outputs": [],
   "source": [
    "a = icalc.AtmosFlow(u,v,None)"
   ]
  },
  {
   "cell_type": "code",
   "execution_count": 14,
   "metadata": {
    "collapsed": false
   },
   "outputs": [
    {
     "data": {
      "text/plain": [
       "<iris 'Cube' of shearing_deformation_2d / (hertz) (atmosphere_hybrid_height_coordinate: 40; latitude: 599; longitude: 599)>"
      ]
     },
     "execution_count": 14,
     "metadata": {},
     "output_type": "execute_result"
    }
   ],
   "source": []
  },
  {
   "cell_type": "code",
   "execution_count": 15,
   "metadata": {
    "collapsed": false
   },
   "outputs": [],
   "source": [
    "import pickle"
   ]
  },
  {
   "cell_type": "code",
   "execution_count": 39,
   "metadata": {
    "collapsed": true
   },
   "outputs": [],
   "source": [
    "with open('sizeof_a.pkl', 'wb') as output:\n",
    "    pickle.dump(a, output, pickle.HIGHEST_PROTOCOL)"
   ]
  },
  {
   "cell_type": "code",
   "execution_count": 11,
   "metadata": {
    "collapsed": false
   },
   "outputs": [],
   "source": [
    "class MyClass:\n",
    "    def __init__(self, x, y):\n",
    "        self.x = x.copy()\n",
    "        self.y = y.copy()\n",
    "\n",
    "    @cached_property\n",
    "    def wspd(self):\n",
    "        print(\"calculating wind speed\")\n",
    "        return self.x * self.y"
   ]
  },
  {
   "cell_type": "code",
   "execution_count": 12,
   "metadata": {
    "collapsed": true
   },
   "outputs": [],
   "source": [
    "aa = MyClass(u,v)"
   ]
  },
  {
   "cell_type": "code",
   "execution_count": 15,
   "metadata": {
    "collapsed": false
   },
   "outputs": [],
   "source": [
    "aaa = aa.wspd"
   ]
  },
  {
   "cell_type": "code",
   "execution_count": null,
   "metadata": {
    "collapsed": true
   },
   "outputs": [],
   "source": []
  },
  {
   "cell_type": "code",
   "execution_count": null,
   "metadata": {
    "collapsed": true
   },
   "outputs": [],
   "source": []
  },
  {
   "cell_type": "code",
   "execution_count": null,
   "metadata": {
    "collapsed": true
   },
   "outputs": [],
   "source": []
  },
  {
   "cell_type": "code",
   "execution_count": null,
   "metadata": {
    "collapsed": true
   },
   "outputs": [],
   "source": []
  },
  {
   "cell_type": "code",
   "execution_count": null,
   "metadata": {
    "collapsed": true
   },
   "outputs": [],
   "source": []
  },
  {
   "cell_type": "code",
   "execution_count": 135,
   "metadata": {
    "collapsed": true
   },
   "outputs": [],
   "source": [
    "property??"
   ]
  },
  {
   "cell_type": "code",
   "execution_count": 23,
   "metadata": {
    "collapsed": false
   },
   "outputs": [],
   "source": [
    "aa = pickle.load(open('sizeof_u.pkl', 'rb'))"
   ]
  },
  {
   "cell_type": "code",
   "execution_count": 28,
   "metadata": {
    "collapsed": false,
    "scrolled": true
   },
   "outputs": [
    {
     "data": {
      "text/plain": [
       "109.49737548828125"
      ]
     },
     "execution_count": 28,
     "metadata": {},
     "output_type": "execute_result"
    }
   ],
   "source": [
    "aa.data.nbytes/1024**2"
   ]
  },
  {
   "cell_type": "code",
   "execution_count": null,
   "metadata": {
    "collapsed": true
   },
   "outputs": [],
   "source": []
  },
  {
   "cell_type": "code",
   "execution_count": null,
   "metadata": {
    "collapsed": false
   },
   "outputs": [],
   "source": [
    "a.rel_vort_tilt"
   ]
  },
  {
   "cell_type": "code",
   "execution_count": null,
   "metadata": {
    "collapsed": true
   },
   "outputs": [],
   "source": [
    "c_red = mpl.colors.colorConverter.to_rgba('red')\n",
    "c_blue= mpl.colors.colorConverter.to_rgba('blue')\n",
    "c_white_trans = mpl.colors.colorConverter.to_rgba('white',alpha = 0.0)\n",
    "cmap_rb = mpl.colors.LinearSegmentedColormap.from_list('cmap_BuRd',[c_blue,c_white_trans,c_red],64)\n",
    "cmap_rb.set_over('magenta')\n",
    "cmap_rb.set_under('navy')\n",
    "\n",
    "bounds = [-10,-1,1,10]\n",
    "norm = mpl.colors.BoundaryNorm(bounds, cmap_rb.N)\n",
    "\n",
    "kw = dict(norm=norm, levels=bounds, cmap=cmap_rb, extend='both')"
   ]
  },
  {
   "cell_type": "code",
   "execution_count": null,
   "metadata": {
    "collapsed": false,
    "scrolled": false
   },
   "outputs": [],
   "source": [
    "plt.contourf(a.rel_vort[8,...].data*1e4, levels=np.linspace(-10,10,11), cmap='PuOr_r', extend='both')\n",
    "plt.contourf(a.kvn[8,...].data, **kw)\n",
    "plt.colorbar()"
   ]
  },
  {
   "cell_type": "code",
   "execution_count": null,
   "metadata": {
    "collapsed": false
   },
   "outputs": [],
   "source": [
    "def _show_points(cube, i1=1, i2=4):\n",
    "    print(cube.name())\n",
    "    print(cube.coord(axis='x').name(), cube.coord(axis='x').points[i1:i2], len(cube.coord(axis='x').points))\n",
    "    print(cube.data[0,0,i1:i2])\n",
    "    print(cube.coord(axis='y').name(), cube.coord(axis='y').points[i1:i2], len(cube.coord(axis='y').points))\n",
    "    print(cube.data[0,i1:i2,0])"
   ]
  },
  {
   "cell_type": "code",
   "execution_count": null,
   "metadata": {
    "collapsed": false
   },
   "outputs": [],
   "source": [
    "_show_points(u)"
   ]
  }
 ],
 "metadata": {
  "kernelspec": {
   "display_name": "Python 3",
   "language": "python",
   "name": "python3"
  },
  "language_info": {
   "codemirror_mode": {
    "name": "ipython",
    "version": 3
   },
   "file_extension": ".py",
   "mimetype": "text/x-python",
   "name": "python",
   "nbconvert_exporter": "python",
   "pygments_lexer": "ipython3",
   "version": "3.5.1"
  }
 },
 "nbformat": 4,
 "nbformat_minor": 0
}
