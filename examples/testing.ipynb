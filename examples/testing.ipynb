{
 "cells": [
  {
   "cell_type": "code",
   "execution_count": null,
   "metadata": {
    "collapsed": true
   },
   "outputs": [],
   "source": [
    "%matplotlib inline\n",
    "%load_ext autoreload\n",
    "%autoreload 2"
   ]
  },
  {
   "cell_type": "code",
   "execution_count": null,
   "metadata": {
    "collapsed": true
   },
   "outputs": [],
   "source": [
    "import numpy as np\n",
    "import matplotlib.pyplot as plt\n",
    "import netCDF4 as nc\n",
    "#\n",
    "import tools\n",
    "import standard"
   ]
  },
  {
   "cell_type": "code",
   "execution_count": null,
   "metadata": {
    "collapsed": true
   },
   "outputs": [],
   "source": [
    "fname = '../../examples/example_data/data.nc'\n",
    "f = nc.Dataset(fname)\n",
    "lon = f.variables['longitude'][:]\n",
    "lat = f.variables['latitude'][:]\n",
    "u = f.variables['u'][:]\n",
    "v = f.variables['v'][:]\n",
    "vo = f.variables['vo'][:]"
   ]
  },
  {
   "cell_type": "code",
   "execution_count": null,
   "metadata": {
    "collapsed": true
   },
   "outputs": [],
   "source": [
    "uu, info = tools.prep_data(u,'tzyx')\n",
    "vv, _ = tools.prep_data(v,'tzyx')\n",
    "a = standard.WindHorizontal(uu,vv,lons,lats,'lonlat')\n",
    "vo2 = a.vort_z()\n",
    "vo4d = tools.recover_data(vo2,info)"
   ]
  },
  {
   "cell_type": "code",
   "execution_count": null,
   "metadata": {
    "collapsed": true
   },
   "outputs": [],
   "source": [
    "fig, ax = plt.subplots()\n",
    "c = ax.contourf(vo[0,0,100:200,:]-vo4d[0,0,100:200,:])\n",
    "plt.colorbar(c, ax=ax)\n",
    "fig, (ax1, ax2) = plt.subplots(nrows=2,figsize=(12,10))\n",
    "c1 = ax1.contourf(vo[0,0,10:230,:])\n",
    "plt.colorbar(c1,ax=ax1)\n",
    "c2 = ax2.contourf(vo4d[0,0,10:230,:])\n",
    "plt.colorbar(c2,ax=ax2)"
   ]
  }
 ],
 "metadata": {
  "kernelspec": {
   "display_name": "Python 2",
   "language": "python",
   "name": "python2"
  },
  "language_info": {
   "codemirror_mode": {
    "name": "ipython",
    "version": 2
   },
   "file_extension": ".py",
   "mimetype": "text/x-python",
   "name": "python",
   "nbconvert_exporter": "python",
   "pygments_lexer": "ipython2",
   "version": "2.7.9"
  }
 },
 "nbformat": 4,
 "nbformat_minor": 0
}
